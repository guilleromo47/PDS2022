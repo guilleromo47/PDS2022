{
 "cells": [
  {
   "cell_type": "code",
   "execution_count": 2,
   "id": "1f834505-ba91-4b6a-bb2d-58cd4c0f8ac7",
   "metadata": {},
   "outputs": [
    {
     "ename": "ModuleNotFoundError",
     "evalue": "No module named 'pandas'",
     "output_type": "error",
     "traceback": [
      "\u001b[1;31m---------------------------------------------------------------------------\u001b[0m",
      "\u001b[1;31mModuleNotFoundError\u001b[0m                       Traceback (most recent call last)",
      "Input \u001b[1;32mIn [2]\u001b[0m, in \u001b[0;36m<cell line: 14>\u001b[1;34m()\u001b[0m\n\u001b[0;32m     11\u001b[0m \u001b[38;5;28;01mfrom\u001b[39;00m \u001b[38;5;21;01mnumpy\u001b[39;00m\u001b[38;5;21;01m.\u001b[39;00m\u001b[38;5;21;01mfft\u001b[39;00m \u001b[38;5;28;01mimport\u001b[39;00m fft\n\u001b[0;32m     13\u001b[0m \u001b[38;5;66;03m# importing packages and modules\u001b[39;00m\n\u001b[1;32m---> 14\u001b[0m \u001b[38;5;28;01mimport\u001b[39;00m \u001b[38;5;21;01mpandas\u001b[39;00m \u001b[38;5;28;01mas\u001b[39;00m \u001b[38;5;21;01mpd\u001b[39;00m\n\u001b[0;32m     15\u001b[0m \u001b[38;5;28;01mimport\u001b[39;00m \u001b[38;5;21;01mscipy\u001b[39;00m\u001b[38;5;21;01m.\u001b[39;00m\u001b[38;5;21;01msignal\u001b[39;00m \u001b[38;5;28;01mas\u001b[39;00m \u001b[38;5;21;01msig\u001b[39;00m\n\u001b[0;32m     16\u001b[0m \u001b[38;5;28;01mimport\u001b[39;00m \u001b[38;5;21;01mmatplotlib\u001b[39;00m\u001b[38;5;21;01m.\u001b[39;00m\u001b[38;5;21;01mpyplot\u001b[39;00m \u001b[38;5;28;01mas\u001b[39;00m \u001b[38;5;21;01mplt\u001b[39;00m\n",
      "\u001b[1;31mModuleNotFoundError\u001b[0m: No module named 'pandas'"
     ]
    }
   ],
   "source": [
    "# -*- coding: utf-8 -*-\n",
    "\"\"\"\n",
    "Created on Wed Oct 19 19:36:22 2022\n",
    "\n",
    "\n",
    "@author: Guillermo Daniel Spagnolo\n",
    "         daniespagnolo@frba.utn.edu.ar\n",
    "\"\"\"\n",
    "import numpy as np\n",
    "import matplotlib.pyplot as plt\n",
    "from numpy.fft import fft\n",
    "\n",
    "# importing packages and modules\n",
    "import pandas as pd\n",
    "import scipy.signal as sig\n",
    "import matplotlib.pyplot as plt\n",
    "\n",
    "\n",
    "realizaciones=200\n",
    "#200 senoidales con 200 frec dif\n",
    "N=1000\n",
    "fs = 1000\n",
    "ts=1/fs\n",
    "Δf = fs/N # resolución espectral Δf\n",
    "Amplitud=2\n",
    "tt= np.linspace(0,(N-1)*ts,N)\n",
    "Wbins=1\n",
    "zerospadding=10\n",
    "n=np.arange(0, (N-1))\n",
    "ff = np.arange(0,fs,Δf)\n",
    "\n",
    "ff = np.arange(0,fs,fs/(N*(zerospadding+1)))\n",
    "\n",
    "# ------WINDOWS----------\n",
    "Bartlett=np.bartlett(N)#perform Bartlett's test \n",
    "Hamming = 0.5-0.5*np.cos(2*np.pi* (n)/(N-1))\n",
    "Blackman = 0.42-0.5* np.cos (2*np.pi* (n) /( N-1))+ 0.08 *np.cos(4*np.pi* n/(N-1));\n",
    "FlatTop = sig.windows.flattop(N)\n",
    "\n",
    "# ------PLOTEO WINDOWS----------\n",
    "plt.figure(1)\n",
    "plt.title(\"Windows\")\n",
    "plt.ylabel(\"Amplitude\");plt.xlabel(\"Sample\")\n",
    "plt.plot(Bartlett,'r',Hamming,\"b\",Blackman,\"g\",FlatTop,\".\")\n",
    "plt.legend([\"Bartlett\",\"Hamming\",\"Blackman\",\"FlatTop\"])\n",
    "plt.show()\n",
    "\n",
    "# ------ ESPECTRAL DE WINDOWS----------\n",
    "bfrec = ff <= fs/2#variable de direccionamiento\n",
    "\n",
    "# plt.figure(2)\n",
    "# FFT_Bartlett= np.fft.fft(Bartlett,axis=0)/Bartlett.shape[0]\n",
    "FFT_Hamming= np.fft.fft(Hamming,axis=0)\n",
    "plt.plot(ff[bfrec],10*np.log10(2*np.abs(FFT_Hamming[bfrec])**2))\n",
    "# plt.plot(np.abs(Bartlett_fft))\n",
    "\n"
   ]
  },
  {
   "cell_type": "code",
   "execution_count": null,
   "id": "27a4d1c0-382c-4546-8e7e-23aa8d4b6aef",
   "metadata": {},
   "outputs": [],
   "source": []
  }
 ],
 "metadata": {
  "kernelspec": {
   "display_name": "Python 3 (ipykernel)",
   "language": "python",
   "name": "python3"
  },
  "language_info": {
   "codemirror_mode": {
    "name": "ipython",
    "version": 3
   },
   "file_extension": ".py",
   "mimetype": "text/x-python",
   "name": "python",
   "nbconvert_exporter": "python",
   "pygments_lexer": "ipython3",
   "version": "3.10.6"
  }
 },
 "nbformat": 4,
 "nbformat_minor": 5
}
