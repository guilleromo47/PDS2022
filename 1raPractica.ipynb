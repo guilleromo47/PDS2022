{
 "cells": [
  {
   "cell_type": "code",
   "execution_count": null,
   "id": "c75bee6a-78e2-4743-abd5-f44638c15da9",
   "metadata": {},
   "outputs": [],
   "source": [
    "# -*- coding: utf-8 -*-\n",
    "\"\"\"\n",
    "Created on Wed Aug 17 22:40:12 2022\n",
    "\n",
    "@author: Guillermo D.  Spagnolo\n",
    "\"\"\"\n",
    "\n",
    "import numpy as np\n",
    "import matplotlib.pyplot as plt\n",
    "\n",
    "N  = 1000 # muestras\n",
    "fs = 1000 #Hz#frec muestreo\n",
    "\n",
    "#tt = np.arange(N)*1/fs\n",
    "\n",
    "def mi_funcion_sen( vmax , dc , ff, ph, nn , fs ):\n",
    "\n",
    "    ts = 1/fs\n",
    "    tt = np.linspace(0,(N-1)*ts,nn)\n",
    "\n",
    "    #tt = np.linspace(0,2*np.pi,num=nn)\n",
    "    xx = dc + vmax*np.sin(2*np.pi*ff*tt + ph)\n",
    "    return tt, xx\n",
    "\n",
    "tt, xx = mi_funcion_sen( vmax = 1, dc = 0, ff = 1, ph=0, nn = N, fs = fs)\n",
    "plt.figure(1)\n",
    "plt.xlabel('tiempo [segundos]')\n",
    "plt.ylabel('Amplitud [V]')\n",
    "plt.plot(tt,xx)\n",
    "\n",
    "#def mi_funcion_sinc(nn):\n",
    "        \n",
    "#    ts = 1/fs\n",
    "#    tt = np.linspace(0,(N-1)*ts,nn)\n",
    "        \n",
    "#    result = np.sin(tt)/tt\n",
    "        \n",
    "#    return tt,result\n",
    "\n",
    "#tt,result=mi_funcion_sinc(nn=N)    \n",
    "#plt.figure(1)\n",
    "#plt.plot(tt,result)\n",
    "\n",
    "\n",
    "    \n"
   ]
  }
 ],
 "metadata": {
  "kernelspec": {
   "display_name": "Python 3 (ipykernel)",
   "language": "python",
   "name": "python3"
  },
  "language_info": {
   "codemirror_mode": {
    "name": "ipython",
    "version": 3
   },
   "file_extension": ".py",
   "mimetype": "text/x-python",
   "name": "python",
   "nbconvert_exporter": "python",
   "pygments_lexer": "ipython3",
   "version": "3.10.6"
  }
 },
 "nbformat": 4,
 "nbformat_minor": 5
}
